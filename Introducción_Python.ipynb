{
 "metadata": {
  "name": "Introducci\u00f3n_Python"
 },
 "nbformat": 3,
 "nbformat_minor": 0,
 "worksheets": [
  {
   "cells": [
    {
     "cell_type": "heading",
     "level": 1,
     "metadata": {},
     "source": [
      "Parte 1 - Introducci\u00f3n a Python"
     ]
    },
    {
     "cell_type": "heading",
     "level": 2,
     "metadata": {},
     "source": [
      "\u00bfQu\u00e9 es Python?"
     ]
    },
    {
     "cell_type": "markdown",
     "metadata": {},
     "source": [
      "* Lenguaje de programaci\u00f3n din\u00e1mico, interpretado y f\u00e1cil de aprender\n",
      "* Creado por Guido van Rossum en 1991\n",
      "* Ampliamente utilizado en ciencia e ingenier\u00eda\n",
      "* Multitud de bibliotecas"
     ]
    },
    {
     "cell_type": "heading",
     "level": 2,
     "metadata": {},
     "source": [
      "Introducci\u00f3n a la sintaxis de Python"
     ]
    },
    {
     "cell_type": "heading",
     "level": 3,
     "metadata": {},
     "source": [
      "Tipos num\u00e9ricos"
     ]
    },
    {
     "cell_type": "markdown",
     "metadata": {},
     "source": [
      "Naturalmente disponemos de los tipos num\u00e9ricos y las operaciones habituales:"
     ]
    },
    {
     "cell_type": "code",
     "collapsed": true,
     "input": [
      "2 * 4 - (7 - 1) / 3 + 1.0"
     ],
     "language": "python",
     "metadata": {},
     "outputs": [
      {
       "metadata": {},
       "output_type": "pyout",
       "prompt_number": 2,
       "text": [
        "7.0"
       ]
      }
     ],
     "prompt_number": 2
    },
    {
     "cell_type": "markdown",
     "metadata": {},
     "source": [
      "Las divisiones por cero lanzan un error:"
     ]
    },
    {
     "cell_type": "code",
     "collapsed": true,
     "input": [
      "1 / 0"
     ],
     "language": "python",
     "metadata": {},
     "outputs": [
      {
       "ename": "ZeroDivisionError",
       "evalue": "division by zero",
       "output_type": "pyerr",
       "traceback": [
        "\u001b[1;31m---------------------------------------------------------------------------\u001b[0m\n\u001b[1;31mZeroDivisionError\u001b[0m                         Traceback (most recent call last)",
        "\u001b[1;32m<ipython-input-3-b710d87c980c>\u001b[0m in \u001b[0;36m<module>\u001b[1;34m()\u001b[0m\n\u001b[1;32m----> 1\u001b[1;33m \u001b[1;36m1\u001b[0m \u001b[1;33m/\u001b[0m \u001b[1;36m0\u001b[0m\u001b[1;33m\u001b[0m\u001b[0m\n\u001b[0m",
        "\u001b[1;31mZeroDivisionError\u001b[0m: division by zero"
       ]
      }
     ],
     "prompt_number": 3
    },
    {
     "cell_type": "code",
     "collapsed": true,
     "input": [
      "1.0 / 0.0"
     ],
     "language": "python",
     "metadata": {},
     "outputs": [
      {
       "ename": "ZeroDivisionError",
       "evalue": "float division by zero",
       "output_type": "pyerr",
       "traceback": [
        "\u001b[1;31m---------------------------------------------------------------------------\u001b[0m\n\u001b[1;31mZeroDivisionError\u001b[0m                         Traceback (most recent call last)",
        "\u001b[1;32m<ipython-input-4-42176c28e89e>\u001b[0m in \u001b[0;36m<module>\u001b[1;34m()\u001b[0m\n\u001b[1;32m----> 1\u001b[1;33m \u001b[1;36m1.0\u001b[0m \u001b[1;33m/\u001b[0m \u001b[1;36m0.0\u001b[0m\u001b[1;33m\u001b[0m\u001b[0m\n\u001b[0m",
        "\u001b[1;31mZeroDivisionError\u001b[0m: float division by zero"
       ]
      }
     ],
     "prompt_number": 4
    },
    {
     "cell_type": "markdown",
     "metadata": {},
     "source": [
      "La divisi\u00f3n entre enteros en Python 2 devuelve un n\u00famero entero (al contrario que en Python 3, que devuelve un n\u00famero real)"
     ]
    },
    {
     "cell_type": "code",
     "collapsed": false,
     "input": [
      "3 / 2"
     ],
     "language": "python",
     "metadata": {},
     "outputs": [
      {
       "output_type": "pyout",
       "prompt_number": 1,
       "text": [
        "1"
       ]
      }
     ],
     "prompt_number": 1
    },
    {
     "cell_type": "markdown",
     "metadata": {},
     "source": [
      "Para convertir entre tipos num\u00e9ricos podemos usar las funciones `int` y`float` :"
     ]
    },
    {
     "cell_type": "code",
     "collapsed": true,
     "input": [],
     "language": "python",
     "metadata": {},
     "outputs": [
      {
       "metadata": {},
       "output_type": "pyout",
       "prompt_number": 11,
       "text": [
        "3.605551275463989"
       ]
      }
     ],
     "prompt_number": 11
    },
    {
     "cell_type": "code",
     "collapsed": true,
     "input": [
      "int(_)"
     ],
     "language": "python",
     "metadata": {},
     "outputs": [
      {
       "metadata": {},
       "output_type": "pyout",
       "prompt_number": 12,
       "text": [
        "3"
       ]
      }
     ],
     "prompt_number": 12
    },
    {
     "cell_type": "markdown",
     "metadata": {},
     "source": [
      "Al convertir a `int` descartamos la parte entera. Si en realidad queremos redondear:"
     ]
    },
    {
     "cell_type": "code",
     "collapsed": true,
     "input": [
      "round()"
     ],
     "language": "python",
     "metadata": {},
     "outputs": [
      {
       "metadata": {},
       "output_type": "pyout",
       "prompt_number": 13,
       "text": [
        "4"
       ]
      }
     ],
     "prompt_number": 13
    },
    {
     "cell_type": "code",
     "collapsed": true,
     "input": [
      "float(_)"
     ],
     "language": "python",
     "metadata": {},
     "outputs": [
      {
       "metadata": {},
       "output_type": "pyout",
       "prompt_number": 14,
       "text": [
        "4.0"
       ]
      }
     ],
     "prompt_number": 14
    },
    {
     "cell_type": "markdown",
     "metadata": {},
     "source": [
      "Otras funciones \u00fatiles:"
     ]
    },
    {
     "cell_type": "code",
     "collapsed": true,
     "input": [
      "max(0, -1, 1, 2)"
     ],
     "language": "python",
     "metadata": {},
     "outputs": [
      {
       "metadata": {},
       "output_type": "pyout",
       "prompt_number": 16,
       "text": [
        "2"
       ]
      }
     ],
     "prompt_number": 16
    },
    {
     "cell_type": "code",
     "collapsed": true,
     "input": [
      "min(1, 2, 0, -1)"
     ],
     "language": "python",
     "metadata": {},
     "outputs": [
      {
       "metadata": {},
       "output_type": "pyout",
       "prompt_number": 17,
       "text": [
        "-1"
       ]
      }
     ],
     "prompt_number": 17
    },
    {
     "cell_type": "markdown",
     "metadata": {},
     "source": [
      "<div class=\"alert alert-info\"><strong>Nota:</strong> Esta es la manera de llamar funciones en Python: los argumentos se encierran entre par\u00e9ntesis y se separan por comas. Se hace de esta manera en otros lenguajes de programaci\u00f3n y no requiere mayor explicaci\u00f3n, de momento.</div>"
     ]
    },
    {
     "cell_type": "heading",
     "level": 3,
     "metadata": {},
     "source": [
      "Asignaci\u00f3n y operadores de comparaci\u00f3n"
     ]
    },
    {
     "cell_type": "markdown",
     "metadata": {},
     "source": [
      "La asignaci\u00f3n en Python funciona con el operador `=`"
     ]
    },
    {
     "cell_type": "code",
     "collapsed": false,
     "input": [
      "a = 1 + 2j"
     ],
     "language": "python",
     "metadata": {},
     "outputs": [],
     "prompt_number": 18
    },
    {
     "cell_type": "markdown",
     "metadata": {},
     "source": [
      "<div class=\"alert alert-warning\"><strong>Nota:</strong> En Python la asignaci\u00f3n no imprime el resultado por pantalla. La mejor manera de visualizar la variable que acabamos de asignar es esta:</div>"
     ]
    },
    {
     "cell_type": "code",
     "collapsed": true,
     "input": [
      "a = 1 + 2j\n",
      "a"
     ],
     "language": "python",
     "metadata": {},
     "outputs": [
      {
       "metadata": {},
       "output_type": "pyout",
       "prompt_number": 19,
       "text": [
        "(1+2j)"
       ]
      }
     ],
     "prompt_number": 19
    },
    {
     "cell_type": "markdown",
     "metadata": {},
     "source": [
      "Podemos encadenar varias asignaciones:"
     ]
    },
    {
     "cell_type": "code",
     "collapsed": false,
     "input": [
      "x, y = 1, 2\n",
      "x, y"
     ],
     "language": "python",
     "metadata": {},
     "outputs": [
      {
       "metadata": {},
       "output_type": "pyout",
       "prompt_number": 20,
       "text": [
        "(1, 2)"
       ]
      }
     ],
     "prompt_number": 20
    },
    {
     "cell_type": "markdown",
     "metadata": {},
     "source": [
      "<div class=\"alert alert-info\">Podemos realizar **asignaci\u00f3n m\u00faltiple**, que hemos hecho en la celda anterior con las variables `x` e `y` para intercambiar valores de manera intuitiva:</div>"
     ]
    },
    {
     "cell_type": "code",
     "collapsed": false,
     "input": [
      "x, y = y, x\n",
      "x, y"
     ],
     "language": "python",
     "metadata": {},
     "outputs": [
      {
       "metadata": {},
       "output_type": "pyout",
       "prompt_number": 21,
       "text": [
        "(2, 1)"
       ]
      }
     ],
     "prompt_number": 21
    },
    {
     "cell_type": "markdown",
     "metadata": {},
     "source": [
      "Los operadores de comparaci\u00f3n son `==`, `!=`, `<`, `<=`, `>`, `>=`."
     ]
    },
    {
     "cell_type": "code",
     "collapsed": true,
     "input": [
      "x, y = 1, 2\n",
      "x, y"
     ],
     "language": "python",
     "metadata": {},
     "outputs": [
      {
       "output_type": "pyout",
       "prompt_number": 3,
       "text": [
        "(1, 2)"
       ]
      }
     ],
     "prompt_number": 3
    },
    {
     "cell_type": "code",
     "collapsed": true,
     "input": [
      "print(x == y)"
     ],
     "language": "python",
     "metadata": {},
     "outputs": [
      {
       "output_type": "stream",
       "stream": "stdout",
       "text": [
        "False\n"
       ]
      }
     ],
     "prompt_number": 23
    },
    {
     "cell_type": "code",
     "collapsed": true,
     "input": [
      "print(x != y)"
     ],
     "language": "python",
     "metadata": {},
     "outputs": [
      {
       "output_type": "stream",
       "stream": "stdout",
       "text": [
        "True\n"
       ]
      }
     ],
     "prompt_number": 24
    },
    {
     "cell_type": "code",
     "collapsed": false,
     "input": [
      "print(x < y)\n",
      "print(x <= y)\n",
      "print(x > y)\n",
      "print(x >= y)"
     ],
     "language": "python",
     "metadata": {},
     "outputs": [
      {
       "output_type": "stream",
       "stream": "stdout",
       "text": [
        "True\n",
        "True\n",
        "False\n",
        "False\n"
       ]
      }
     ],
     "prompt_number": 4
    },
    {
     "cell_type": "markdown",
     "metadata": {},
     "source": [
      "<div class=\"alert alert-warning\">La <strong>funci\u00f3n <code>print</code></strong> es la que se usa para imprimir resultados por pantalla. En Python 2 es una sentencia y funciona sin par\u00e9ntesis y sin posibilidad de pasar argumentos adicionales. En Python 3 es una funci\u00f3n. Aunque se use Python 2, es recomendable usar la sint\u00e1xis de Python 3</div>"
     ]
    },
    {
     "cell_type": "markdown",
     "metadata": {},
     "source": [
      "Si la ordenaci\u00f3n no tiene sentido, obtenemos un error:"
     ]
    },
    {
     "cell_type": "code",
     "collapsed": true,
     "input": [
      "1 + 1j < 0 + 1j"
     ],
     "language": "python",
     "metadata": {},
     "outputs": [
      {
       "ename": "TypeError",
       "evalue": "unorderable types: complex() < complex()",
       "output_type": "pyerr",
       "traceback": [
        "\u001b[1;31m---------------------------------------------------------------------------\u001b[0m\n\u001b[1;31mTypeError\u001b[0m                                 Traceback (most recent call last)",
        "\u001b[1;32m<ipython-input-26-9a32b6a036ce>\u001b[0m in \u001b[0;36m<module>\u001b[1;34m()\u001b[0m\n\u001b[1;32m----> 1\u001b[1;33m \u001b[1;36m1\u001b[0m \u001b[1;33m+\u001b[0m \u001b[1;36m1j\u001b[0m \u001b[1;33m<\u001b[0m \u001b[1;36m0\u001b[0m \u001b[1;33m+\u001b[0m \u001b[1;36m1j\u001b[0m\u001b[1;33m\u001b[0m\u001b[0m\n\u001b[0m",
        "\u001b[1;31mTypeError\u001b[0m: unorderable types: complex() < complex()"
       ]
      }
     ],
     "prompt_number": 26
    },
    {
     "cell_type": "heading",
     "level": 2,
     "metadata": {},
     "source": [
      "Estructuras de datos fundamentales de Python"
     ]
    },
    {
     "cell_type": "markdown",
     "metadata": {},
     "source": [
      "Otro tipo de datos muy importante que vamos a usar son las secuencias: las <strong>tuplas</strong> y las <strong>listas</strong>. Ambos son conjuntos ordenados de elementos: las tuplas se demarcan con par\u00e9ntesis y las listas con corchetes."
     ]
    },
    {
     "cell_type": "code",
     "collapsed": true,
     "input": [
      "una_lista = [1, 2, 3.0, 4 + 0j, \"5\"]\n",
      "una_tupla = (1, 2, 3.0, 4 + 0j, \"5\")\n",
      "print(una_lista)\n",
      "print(una_tupla)\n",
      "print(una_lista == una_tupla)"
     ],
     "language": "python",
     "metadata": {},
     "outputs": [
      {
       "output_type": "stream",
       "stream": "stdout",
       "text": [
        "[1, 2, 3.0, (4+0j), '5']\n",
        "(1, 2, 3.0, (4+0j), '5')\n",
        "False\n"
       ]
      }
     ],
     "prompt_number": 27
    },
    {
     "cell_type": "markdown",
     "metadata": {},
     "source": [
      "Para las tuplas, podemos incluso obviar los par\u00e9ntesis:"
     ]
    },
    {
     "cell_type": "code",
     "collapsed": true,
     "input": [
      "1, 2, 3.0"
     ],
     "language": "python",
     "metadata": {},
     "outputs": [
      {
       "metadata": {},
       "output_type": "pyout",
       "prompt_number": 28,
       "text": [
        "(1, 2, 3.0)"
       ]
      }
     ],
     "prompt_number": 28
    },
    {
     "cell_type": "markdown",
     "metadata": {},
     "source": [
      "Los dos tipos tienen varias cosas en com\u00fan. En particular:\n",
      "\n",
      "* Podemos comprobar si un elemento est\u00e1 en la secuencia con el operador `in`:"
     ]
    },
    {
     "cell_type": "code",
     "collapsed": true,
     "input": [
      "2 in una_tupla"
     ],
     "language": "python",
     "metadata": {},
     "outputs": [
      {
       "metadata": {},
       "output_type": "pyout",
       "prompt_number": 29,
       "text": [
        "True"
       ]
      }
     ],
     "prompt_number": 29
    },
    {
     "cell_type": "markdown",
     "metadata": {},
     "source": [
      "* Podemos saber cu\u00e1ntos elementos tiene la secuencia con la funci\u00f3n `len`:"
     ]
    },
    {
     "cell_type": "code",
     "collapsed": true,
     "input": [
      "len(una_lista)"
     ],
     "language": "python",
     "metadata": {},
     "outputs": [
      {
       "metadata": {},
       "output_type": "pyout",
       "prompt_number": 30,
       "text": [
        "5"
       ]
      }
     ],
     "prompt_number": 30
    },
    {
     "cell_type": "markdown",
     "metadata": {},
     "source": [
      "* Podemos *indexar* las secuencias, utilizando la sintaxis `[<inicio>:<final>:<salto>]`:"
     ]
    },
    {
     "cell_type": "code",
     "collapsed": true,
     "input": [
      "print(una_lista[0])  # Primer elemento, 1\n",
      "print(una_tupla[1])  # Segundo elemento, 2\n",
      "print(una_lista[0:2])  # Desde el primero hasta el tercero, excluyendo este: 1, 2\n",
      "print(una_tupla[:3])  # Desde el primero hasta el cuarto, excluyendo este: 1, 2, 3.0\n",
      "print(una_lista[-1])  # El \u00faltimo: 4 + 0j\n",
      "print(una_tupla[:])  # Desde el primero hasta el \u00faltimo\n",
      "print(una_lista[::2])  # Desde el primero hasta el \u00faltimo, saltando 2: 1, 3.0"
     ],
     "language": "python",
     "metadata": {},
     "outputs": [
      {
       "output_type": "stream",
       "stream": "stdout",
       "text": [
        "1\n",
        "2\n",
        "[1, 2]\n",
        "(1, 2, 3.0)\n",
        "5\n",
        "(1, 2, 3.0, (4+0j), '5')\n",
        "[1, 3.0, '5']\n"
       ]
      }
     ],
     "prompt_number": 31
    },
    {
     "cell_type": "markdown",
     "metadata": {},
     "source": [
      "<div class=\"alert alert-warning\"><strong>Nota:</strong> \u00a1En Python la indexaci\u00f3n empieza por cero!</div>"
     ]
    },
    {
     "cell_type": "markdown",
     "metadata": {},
     "source": [
      "F\u00edjate en dos detalles:\n",
      "\n",
      "* Cuando especificamos \u00edndices negativos, recorremos el array desde el final hasta el principio. Por eso `[-1]` da el \u00faltimo elemento, `[-2]` el pen\u00faltimo y as\u00ed sucesivamente.\n",
      "* Hemos utilizado la notaci\u00f3n `[::2]` para el \u00faltimo caso. Esto es una manera abreviada de escribir `[0:-1:2]`, es decir, si no decimos nada empezamos en el principio y terminamos en el final. Por eso `[:]` devuelve todos los elementos de la secuencia."
     ]
    },
    {
     "cell_type": "markdown",
     "metadata": {},
     "source": [
      "Naturalmente, las sequencias se pueden anidar: por ejemplo, una lista puede contener, a su vez, m\u00e1s listas."
     ]
    },
    {
     "cell_type": "code",
     "collapsed": true,
     "input": [
      "a = [\n",
      " [1, 2, 3],\n",
      " [4, 5],\n",
      "]\n",
      "print(a)\n",
      "print(a[0])\n",
      "print(a[0][0])"
     ],
     "language": "python",
     "metadata": {},
     "outputs": [
      {
       "output_type": "stream",
       "stream": "stdout",
       "text": [
        "[[1, 2, 3], [4, 5]]\n",
        "[1, 2, 3]\n",
        "1\n"
       ]
      }
     ],
     "prompt_number": 32
    },
    {
     "cell_type": "markdown",
     "metadata": {},
     "source": [
      "Esto nos ser\u00e1 de gran ayuda en el futuro para construir arrays."
     ]
    },
    {
     "cell_type": "heading",
     "level": 4,
     "metadata": {},
     "source": [
      "M\u00e1s estructuras de datos: Diccionarios"
     ]
    },
    {
     "cell_type": "markdown",
     "metadata": {},
     "source": [
      "Son otro tipo de contenedor, al igual que las listas, pero en lugar de estar indexados por un n\u00famero como el 0 o el 1, est\u00e1n indexados por una clave (key) que puede ser casi cualquier cosa. Para definirlos los diccionarios usan llaves (\"{}\"), en lugar de los corchetes (\"[]\") o par\u00e9ntesis (\"()\") que usan listas y tuplas.\n",
      "\n",
      "\n",
      "{\"Python\": \"An awesome programming language\", \n",
      " \"Monty Python\": \"A british comedy troupe\"}\n",
      "\n",
      "En los diccionarios la clave va primero, seguida por dos puntos (\":\") y el valor. Si queremos poner m\u00e1s claves:valor s\u00f3lo hay que separarlos por comas (\",\").\n"
     ]
    },
    {
     "cell_type": "code",
     "collapsed": false,
     "input": [
      "{\"Python\": \"An awesome programming language\", \n",
      " \"Monty Python\": \"A british comedy troupe\"}"
     ],
     "language": "python",
     "metadata": {},
     "outputs": []
    },
    {
     "cell_type": "markdown",
     "metadata": {},
     "source": [
      "Podemos asignar un diccionario a una varibale e indexarla por sus claves para obtener los valores."
     ]
    },
    {
     "cell_type": "code",
     "collapsed": false,
     "input": [
      "our_dictionary = {\n",
      "   \"Python\": \"An awesome programming language\", \n",
      "   \"Monty Python\": \"A british comedy troupe\"\n",
      "}\n",
      "our_dictionary[\"Python\"]"
     ],
     "language": "python",
     "metadata": {},
     "outputs": []
    },
    {
     "cell_type": "markdown",
     "metadata": {},
     "source": [
      "Tambi\u00e9n se puede iterar por las claves en un diccionario para obtener una lista de todas las definiciones:\n"
     ]
    },
    {
     "cell_type": "code",
     "collapsed": false,
     "input": [
      "for key in our_dictionary:\n",
      "    print('The Key is \"{0}\" and the value is  \"{1}\"'.format(key, our_dictionary[key]))"
     ],
     "language": "python",
     "metadata": {},
     "outputs": []
    },
    {
     "cell_type": "markdown",
     "metadata": {},
     "source": [
      "***"
     ]
    },
    {
     "cell_type": "heading",
     "level": 3,
     "metadata": {},
     "source": [
      "Estructuras de control (I): condicionales"
     ]
    },
    {
     "cell_type": "markdown",
     "metadata": {},
     "source": [
      "En Python, los condicionales siguen esta estructura:"
     ]
    },
    {
     "cell_type": "code",
     "collapsed": true,
     "input": [
      "print(x, y)\n",
      "if x < y:\n",
      "    print(\"x es menor que y\")\n",
      "    print(\"x sigue siendo menor que y\")"
     ],
     "language": "python",
     "metadata": {},
     "outputs": [
      {
       "output_type": "stream",
       "stream": "stdout",
       "text": [
        "1 2\n",
        "x es menor que y\n",
        "x sigue siendo menor que y\n"
       ]
      }
     ],
     "prompt_number": 33
    },
    {
     "cell_type": "markdown",
     "metadata": {},
     "source": [
      "<div class=\"alert alert-error\"><strong>Importante:</strong> En Python los bloques se delimitan por indentaci\u00f3n. Lo m\u00e1s est\u00e1ndar y, adem\u00e1s recomendado, es usar cuatro espacios. Cuando ponemos los dos puntos al final de la primera l\u00ednea del condicional, todo lo que vaya a continuaci\u00f3n con *un* nivel de indentaci\u00f3n superior se considera dentro del condicional. En cuanto escribimos la primera l\u00ednea con un nivel de indentaci\u00f3n inferior, hemos cerrado el condicional. Si no seguimos esto a rajatabla Python nos dar\u00e1 errores; es una forma de forzar a que el c\u00f3digo sea legible.</div>"
     ]
    },
    {
     "cell_type": "code",
     "collapsed": true,
     "input": [
      "if 1 < 0:\n",
      "    print(\"1 es menor que 0\")\n",
      "print(\"1 sigue siendo menor que 0\")  # <-- \u00a1Mal!"
     ],
     "language": "python",
     "metadata": {},
     "outputs": [
      {
       "output_type": "stream",
       "stream": "stdout",
       "text": [
        "1 sigue siendo menor que 0\n"
       ]
      }
     ],
     "prompt_number": 34
    },
    {
     "cell_type": "code",
     "collapsed": true,
     "input": [
      "if 1 < 0:\n",
      "    print(\"1 es menor que 0\")\n",
      "     print(\"1 sigue siendo menor que 0\")"
     ],
     "language": "python",
     "metadata": {},
     "outputs": [
      {
       "ename": "IndentationError",
       "evalue": "unexpected indent (<ipython-input-35-89ceea330d08>, line 3)",
       "output_type": "pyerr",
       "traceback": [
        "\u001b[1;36m  File \u001b[1;32m\"<ipython-input-35-89ceea330d08>\"\u001b[1;36m, line \u001b[1;32m3\u001b[0m\n\u001b[1;33m    print(\"1 sigue siendo menor que 0\")\u001b[0m\n\u001b[1;37m    ^\u001b[0m\n\u001b[1;31mIndentationError\u001b[0m\u001b[1;31m:\u001b[0m unexpected indent\n"
       ]
      }
     ],
     "prompt_number": 35
    },
    {
     "cell_type": "markdown",
     "metadata": {},
     "source": [
      "Si queremos a\u00f1adir ramas adicionales al condicional, podemos emplear la sentencia `elif` (abreviatura de *else if*). Para la parte final, que debe ejecutarse si ninguna de las condiciones anteriores se ha cumplido, usamos la sentencia `else`:"
     ]
    },
    {
     "cell_type": "code",
     "collapsed": true,
     "input": [
      "print(x, y)\n",
      "if x < y:\n",
      "    print(\"x es menor que y\")\n",
      "elif x == y:\n",
      "    print(\"x es igual a y\")\n",
      "else:\n",
      "    print(\"x no es ni menor ni igual que y\")"
     ],
     "language": "python",
     "metadata": {},
     "outputs": [
      {
       "output_type": "stream",
       "stream": "stdout",
       "text": [
        "1 2\n",
        "x es menor que y\n"
       ]
      }
     ],
     "prompt_number": 36
    },
    {
     "cell_type": "heading",
     "level": 3,
     "metadata": {},
     "source": [
      "Estructuras de control (II): bucles"
     ]
    },
    {
     "cell_type": "markdown",
     "metadata": {},
     "source": [
      "Los bucles tambi\u00e9n se demarcan con la indentaci\u00f3n. En Python hay dos tipos de bucles: `while` y `for`."
     ]
    },
    {
     "cell_type": "code",
     "collapsed": true,
     "input": [
      "ii = 0\n",
      "while ii < 5:\n",
      "    print(ii)\n",
      "    ii += 1"
     ],
     "language": "python",
     "metadata": {},
     "outputs": [
      {
       "output_type": "stream",
       "stream": "stdout",
       "text": [
        "0\n",
        "1\n",
        "2\n",
        "3\n",
        "4\n"
       ]
      }
     ],
     "prompt_number": 37
    },
    {
     "cell_type": "markdown",
     "metadata": {},
     "source": [
      "Podemos interrumpir el bucle a la mitad usando la sentencia `break`:"
     ]
    },
    {
     "cell_type": "code",
     "collapsed": true,
     "input": [
      "ii = 0\n",
      "while ii < 5:\n",
      "    print(ii)\n",
      "    ii += 1\n",
      "    if ii == 3:\n",
      "        break"
     ],
     "language": "python",
     "metadata": {},
     "outputs": [
      {
       "output_type": "stream",
       "stream": "stdout",
       "text": [
        "0\n",
        "1\n",
        "2\n"
       ]
      }
     ],
     "prompt_number": 38
    },
    {
     "cell_type": "markdown",
     "metadata": {},
     "source": [
      "Un bloque `else` justo despu\u00e9s del bucle se ejecuta si este no ha sido interrumpido por nosotros:"
     ]
    },
    {
     "cell_type": "code",
     "collapsed": true,
     "input": [
      "ii = 0\n",
      "while ii < 5:\n",
      "    print(ii)\n",
      "    ii += 1\n",
      "    if ii == 3:\n",
      "        break\n",
      "else:\n",
      "    print(\"El bucle ha terminado\")"
     ],
     "language": "python",
     "metadata": {},
     "outputs": [
      {
       "output_type": "stream",
       "stream": "stdout",
       "text": [
        "0\n",
        "1\n",
        "2\n"
       ]
      }
     ],
     "prompt_number": 39
    },
    {
     "cell_type": "code",
     "collapsed": true,
     "input": [
      "ii = 0\n",
      "while ii < 5:\n",
      "    print(ii)\n",
      "    ii += 1\n",
      "    #if ii == 3:\n",
      "        #break\n",
      "else:\n",
      "    print(\"El bucle ha terminado\")"
     ],
     "language": "python",
     "metadata": {},
     "outputs": [
      {
       "output_type": "stream",
       "stream": "stdout",
       "text": [
        "0\n",
        "1\n",
        "2\n",
        "3\n",
        "4\n",
        "El bucle ha terminado\n"
       ]
      }
     ],
     "prompt_number": 40
    },
    {
     "cell_type": "markdown",
     "metadata": {},
     "source": [
      "El otro bucle en Python es el bucle `for`, y funciona de manera un poco peculiar. La idea es recorrer un conjunto de elementos:"
     ]
    },
    {
     "cell_type": "code",
     "collapsed": true,
     "input": [
      "for i in 1, 2, 4:\n",
      "    print(i)"
     ],
     "language": "python",
     "metadata": {},
     "outputs": [
      {
       "output_type": "stream",
       "stream": "stdout",
       "text": [
        "1\n",
        "2\n",
        "4\n"
       ]
      }
     ],
     "prompt_number": 41
    },
    {
     "cell_type": "code",
     "collapsed": true,
     "input": [
      "for nombre in \"Juan\", \"Luis\", \"Carlos\":\n",
      "    print(nombre)"
     ],
     "language": "python",
     "metadata": {},
     "outputs": [
      {
       "output_type": "stream",
       "stream": "stdout",
       "text": [
        "Juan\n",
        "Luis\n",
        "Carlos\n"
       ]
      }
     ],
     "prompt_number": 42
    },
    {
     "cell_type": "markdown",
     "metadata": {},
     "source": [
      "Una cosa que haremos de manera recurrente ser\u00e1 recorrer un rango de n\u00fameros. Esto lo conseguimos con la funci\u00f3n range:"
     ]
    },
    {
     "cell_type": "code",
     "collapsed": true,
     "input": [
      "for i in range(3):\n",
      "    print(i)"
     ],
     "language": "python",
     "metadata": {},
     "outputs": [
      {
       "output_type": "stream",
       "stream": "stdout",
       "text": [
        "0\n",
        "1\n",
        "2\n"
       ]
      }
     ],
     "prompt_number": 43
    },
    {
     "cell_type": "code",
     "collapsed": false,
     "input": [
      "for j in range(2, 15,3):\n",
      "    print(j)"
     ],
     "language": "python",
     "metadata": {},
     "outputs": [
      {
       "output_type": "stream",
       "stream": "stdout",
       "text": [
        "2\n",
        "5\n",
        "8\n",
        "11\n",
        "14\n"
       ]
      }
     ],
     "prompt_number": 5
    },
    {
     "cell_type": "markdown",
     "metadata": {},
     "source": [
      "***"
     ]
    },
    {
     "cell_type": "heading",
     "level": 3,
     "metadata": {},
     "source": [
      "Definici\u00f3n de funciones"
     ]
    },
    {
     "cell_type": "markdown",
     "metadata": {},
     "source": [
      "Para definir nuestra propia funci\u00f3n utilizamos la sentencia `def` seguida del nombre de la misma y entre par\u00e9ntesis los argumentos de entrada. La primera l\u00ednea de la funci\u00f3n puede ser una cadena de documentaci\u00f3n."
     ]
    },
    {
     "cell_type": "code",
     "collapsed": false,
     "input": [
      "def funcion(x, y):\n",
      "    \"\"\"Funci\u00f3n de prueba.\"\"\"\n",
      "    pass"
     ],
     "language": "python",
     "metadata": {},
     "outputs": [],
     "prompt_number": 45
    },
    {
     "cell_type": "code",
     "collapsed": true,
     "input": [
      "funcion"
     ],
     "language": "python",
     "metadata": {},
     "outputs": [
      {
       "metadata": {},
       "output_type": "pyout",
       "prompt_number": 46,
       "text": [
        "<function __main__.funcion>"
       ]
      }
     ],
     "prompt_number": 46
    },
    {
     "cell_type": "code",
     "collapsed": true,
     "input": [
      "funcion.__doc__"
     ],
     "language": "python",
     "metadata": {},
     "outputs": [
      {
       "metadata": {},
       "output_type": "pyout",
       "prompt_number": 47,
       "text": [
        "'Funci\u00f3n de prueba.'"
       ]
      }
     ],
     "prompt_number": 47
    },
    {
     "cell_type": "markdown",
     "metadata": {},
     "source": [
      "Los valores de retorno de la funci\u00f3n se especifican con la sentencia `return`. Por ejemplo:"
     ]
    },
    {
     "cell_type": "code",
     "collapsed": true,
     "input": [
      "def al_cuadrado(x):\n",
      "    \"\"\"Funci\u00f3n que eleva un n\u00famero al cuadrado.\"\"\"\n",
      "    y = x ** 2\n",
      "    return y"
     ],
     "language": "python",
     "metadata": {},
     "outputs": [],
     "prompt_number": 48
    },
    {
     "cell_type": "code",
     "collapsed": true,
     "input": [
      "al_cuadrado(4)"
     ],
     "language": "python",
     "metadata": {},
     "outputs": [
      {
       "metadata": {},
       "output_type": "pyout",
       "prompt_number": 49,
       "text": [
        "16"
       ]
      }
     ],
     "prompt_number": 49
    },
    {
     "cell_type": "code",
     "collapsed": true,
     "input": [
      "def multiplica(x, y=2.0):\n",
      "    \"\"\"Multiplica dos n\u00fameros, por defecto el primero por 2.\"\"\"\n",
      "    return x * y\n",
      "\n",
      "multiplica(2, 3)"
     ],
     "language": "python",
     "metadata": {},
     "outputs": [
      {
       "metadata": {},
       "output_type": "pyout",
       "prompt_number": 50,
       "text": [
        "6"
       ]
      }
     ],
     "prompt_number": 50
    },
    {
     "cell_type": "code",
     "collapsed": true,
     "input": [
      "multiplica(4)"
     ],
     "language": "python",
     "metadata": {},
     "outputs": [
      {
       "metadata": {},
       "output_type": "pyout",
       "prompt_number": 51,
       "text": [
        "8.0"
       ]
      }
     ],
     "prompt_number": 51
    },
    {
     "cell_type": "code",
     "collapsed": true,
     "input": [
      "multiplica(x, y=1.0)"
     ],
     "language": "python",
     "metadata": {},
     "outputs": [
      {
       "metadata": {},
       "output_type": "pyout",
       "prompt_number": 52,
       "text": [
        "1.0"
       ]
      }
     ],
     "prompt_number": 52
    },
    {
     "cell_type": "heading",
     "level": 3,
     "metadata": {},
     "source": [
      "PEP8, la gu\u00eda de estilo"
     ]
    },
    {
     "cell_type": "markdown",
     "metadata": {},
     "source": [
      "* Usa indentaci\u00f3n de 4 espacios, no tabuladores [IPython o tu editor se encargan de ello].\n",
      "* Acota las l\u00edneas a 79 caracteres.\n",
      "* Usa l\u00edneas en blanco para separar funciones y bloques de c\u00f3digo dentro de ellas.\n",
      "* Pon los comentarios en l\u00edneas aparte si es posible.\n",
      "* Usa cadenas de documentaci\u00f3n (*docstrings*).\n",
      "* Pon espacios alrededor de los operadores y despu\u00e9s de coma.\n",
      "* Usa la convenci\u00f3n minuscula_con_guiones_bajos para los nombres de las funciones y las variables.\n",
      "* Aunque Python 3 te lo permite, no uses caracteres especiales para los identificadores.\n",
      "\n",
      "(Traducido de http://docs.python.org/3/tutorial/controlflow.html#intermezzo-coding-style)\n"
     ]
    },
    {
     "cell_type": "heading",
     "level": 2,
     "metadata": {},
     "source": [
      "Referencias"
     ]
    },
    {
     "cell_type": "markdown",
     "metadata": {},
     "source": [
      "* Tutorial de Python oficial actualizado y traducido al espa\u00f1ol http://docs.python.org.ar/tutorial/\n",
      "* V\u00eddeo de 5 minutos de IPython http://youtu.be/C0D9KQdigGk\n",
      "* Introducci\u00f3n a la programaci\u00f3n con Python, Universitat Jaume I http://www.uji.es/bin/publ/edicions/ippython.pdf\n",
      "* PEP8 http://www.python.org/dev/peps/pep-0008/\u200e"
     ]
    }
   ],
   "metadata": {}
  }
 ]
}